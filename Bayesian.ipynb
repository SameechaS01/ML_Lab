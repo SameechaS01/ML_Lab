{
  "nbformat": 4,
  "nbformat_minor": 0,
  "metadata": {
    "colab": {
      "provenance": [],
      "authorship_tag": "ABX9TyN9OKanqz99dWy8iHPLwqvQ",
      "include_colab_link": true
    },
    "kernelspec": {
      "name": "python3",
      "display_name": "Python 3"
    },
    "language_info": {
      "name": "python"
    }
  },
  "cells": [
    {
      "cell_type": "markdown",
      "metadata": {
        "id": "view-in-github",
        "colab_type": "text"
      },
      "source": [
        "<a href=\"https://colab.research.google.com/github/SameechaS01/ML_Lab/blob/main/Bayesian.ipynb\" target=\"_parent\"><img src=\"https://colab.research.google.com/assets/colab-badge.svg\" alt=\"Open In Colab\"/></a>"
      ]
    },
    {
      "cell_type": "code",
      "execution_count": null,
      "metadata": {
        "id": "O7QqeAe2_esT"
      },
      "outputs": [],
      "source": [
        "import numpy as np\n",
        "import pandas as pd\n",
        "import csv \n",
        "import pgmpy\n",
        "from pgmpy.estimators import MaximumLikelihoodEstimator\n",
        "from pgmpy.models import BayesianModel\n",
        "from pgmpy.inference import VariableElimination\n",
        "\n",
        "#read Cleveland Heart Disease data\n",
        "heartDisease = pd.read_csv('data.csv')\n",
        "heartDisease = heartDisease.replace('?',np.nan)\n",
        "\n",
        "#display the data\n",
        "print('Sample instances from the dataset are given below')\n",
        "print(heartDisease.head())\n",
        "\n",
        "#display the Attributes names and datatypes\n",
        "print('\\n Attributes and datatypes')\n",
        "print(heartDisease.dtypes)\n",
        "\n",
        "#Create Model-Bayesian Network\n",
        "model =  BayesianModel([('age','heartDisease'),('sex','heartDisease'),('exang','heartDisease'),('cp','heartDisease'),('restecg','heartDisease'),('heartDisease','chol')])\n",
        "\n",
        "#Learning CPDs using Maximum Likelihood Estimators\n",
        "print('\\n Learning CPD using Maximum likelihood estimators')\n",
        "model.fit(heartDisease,estimator=MaximumLikelihoodEstimator)\n",
        "\n",
        "#Inferencing with Bayesian Network\n",
        "print('\\n Inferencing with Bayesian Network:')\n",
        "heartDiseasetest_infer = VariableElimination(model)\n",
        "\n",
        "#computing the Probability of heartDisease given restecg\n",
        "print('\\n 1.Probability of heartDisease given evidence= restecg :1')\n",
        "q1=heartDiseasetest_infer.query(variables=['heartDisease'],evidence={'restecg':1})\n",
        "print(q1)\n",
        "\n",
        "#computing the Probability of heartDisease given cp\n",
        "print('\\n 2.Probability of heartDisease given evidence= cp:2 ')\n",
        "q2=heartDiseasetest_infer.query(variables=['heartDisease'],evidence={'cp':2})\n",
        "print(q2)"
      ]
    }
  ]
}